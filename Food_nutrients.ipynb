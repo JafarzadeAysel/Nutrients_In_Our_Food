{
 "cells": [
  {
   "cell_type": "markdown",
   "id": "a8223bb8-103f-4a6c-9a9c-3c8e0c230c90",
   "metadata": {},
   "source": [
    "<img src=\"https://images.unsplash.com/photo-1540189549336-e6e99c3679fe?ixlib=rb-1.2.1&ixid=MnwxMjA3fDB8MHxwaG90by1wYWdlfHx8fGVufDB8fHx8&auto=format&fit=crop&w=387&q=80\"\n",
    "    style=\"width:200; float: left; margin: 0 40px 40px 40px;\"></img>\n",
    "\n",
    "## <center>Now you can get the list of all the nutrients in your food</center>\n",
    "## <center>just by inserting ingredients</center>\n",
    "<br>\n",
    "<br>\n",
    "\n",
    "## <center>Check it out!</center>"
   ]
  },
  {
   "cell_type": "markdown",
   "id": "9aab661e",
   "metadata": {},
   "source": [
    "## Import Libraries"
   ]
  },
  {
   "cell_type": "code",
   "execution_count": 1,
   "id": "77069950-ffb9-43f5-9793-8a5080c6f296",
   "metadata": {},
   "outputs": [],
   "source": [
    "import requests\n",
    "import json\n",
    "import pandas as pd\n",
    "import matplotlib.pyplot as plt"
   ]
  },
  {
   "cell_type": "markdown",
   "id": "f2e939f1",
   "metadata": {},
   "source": [
    "## Add Ingredients in your food with its units"
   ]
  },
  {
   "cell_type": "code",
   "execution_count": 2,
   "id": "fbe614e2-8d41-4ced-ad10-26990e7857ce",
   "metadata": {},
   "outputs": [
    {
     "name": "stdout",
     "output_type": "stream",
     "text": [
      "Enter ingredients with its unit. Such as 100ml milk, 40g bread etc.200g tuna, 200ml water, 40g bread\n"
     ]
    }
   ],
   "source": [
    "ingredients = (input('Enter ingredients with its unit. Such as 100ml milk, 40g bread etc.'))"
   ]
  },
  {
   "cell_type": "markdown",
   "id": "72f397cd",
   "metadata": {},
   "source": [
    "#### I mostly consume tuna, water and bread combination. As an example I added those as an ingredients. But you can add anything you want"
   ]
  },
  {
   "cell_type": "markdown",
   "id": "57539018",
   "metadata": {},
   "source": [
    "## Exporting data from API and making it in a structured form"
   ]
  },
  {
   "cell_type": "code",
   "execution_count": 3,
   "id": "e1349845-f295-453f-9427-b1cf091cef38",
   "metadata": {},
   "outputs": [],
   "source": [
    "def get_nutrients(ingredients):\n",
    "    api_key = 'e109e1ac122ce462cd08ef2b1477f786'\n",
    "    api_id = 'da7e6685'\n",
    "    api_endpint = 'https://api.edamam.com/api/nutrition-details'\n",
    "    url = api_endpint + '?app_id=' + api_id +'&app_key=' + api_key\n",
    "    headers = {\n",
    "        'Content-Type':'application/json'}\n",
    "    receipe = {\n",
    "        'title': 'Something',\n",
    "        'ingr' : [ingredients]}\n",
    "    r = requests.post(url,headers = headers, json = receipe)\n",
    "    if r.ok == True:\n",
    "        df = pd.DataFrame(r.json()['totalNutrients']).transpose()\n",
    "        return df\n",
    "    else:\n",
    "        print('Ops! It seems there is typing mistake in your ingredients! Check example provided above!')"
   ]
  },
  {
   "cell_type": "code",
   "execution_count": 4,
   "id": "8832638c-a50d-4029-abe3-8fb3e081ff19",
   "metadata": {},
   "outputs": [
    {
     "data": {
      "text/html": [
       "<div>\n",
       "<style scoped>\n",
       "    .dataframe tbody tr th:only-of-type {\n",
       "        vertical-align: middle;\n",
       "    }\n",
       "\n",
       "    .dataframe tbody tr th {\n",
       "        vertical-align: top;\n",
       "    }\n",
       "\n",
       "    .dataframe thead th {\n",
       "        text-align: right;\n",
       "    }\n",
       "</style>\n",
       "<table border=\"1\" class=\"dataframe\">\n",
       "  <thead>\n",
       "    <tr style=\"text-align: right;\">\n",
       "      <th></th>\n",
       "      <th>label</th>\n",
       "      <th>quantity</th>\n",
       "      <th>unit</th>\n",
       "    </tr>\n",
       "  </thead>\n",
       "  <tbody>\n",
       "    <tr>\n",
       "      <th>ENERC_KCAL</th>\n",
       "      <td>Energy</td>\n",
       "      <td>534.0</td>\n",
       "      <td>kcal</td>\n",
       "    </tr>\n",
       "    <tr>\n",
       "      <th>FAT</th>\n",
       "      <td>Total lipid (fat)</td>\n",
       "      <td>6.48</td>\n",
       "      <td>g</td>\n",
       "    </tr>\n",
       "    <tr>\n",
       "      <th>FASAT</th>\n",
       "      <td>Fatty acids, total saturated</td>\n",
       "      <td>1.554</td>\n",
       "      <td>g</td>\n",
       "    </tr>\n",
       "    <tr>\n",
       "      <th>FATRN</th>\n",
       "      <td>Fatty acids, total trans</td>\n",
       "      <td>0.052</td>\n",
       "      <td>g</td>\n",
       "    </tr>\n",
       "    <tr>\n",
       "      <th>FAMS</th>\n",
       "      <td>Fatty acids, total monounsaturated</td>\n",
       "      <td>1.214</td>\n",
       "      <td>g</td>\n",
       "    </tr>\n",
       "    <tr>\n",
       "      <th>FAPU</th>\n",
       "      <td>Fatty acids, total polyunsaturated</td>\n",
       "      <td>2.998</td>\n",
       "      <td>g</td>\n",
       "    </tr>\n",
       "    <tr>\n",
       "      <th>CHOCDF</th>\n",
       "      <td>Carbohydrate, by difference</td>\n",
       "      <td>97.36</td>\n",
       "      <td>g</td>\n",
       "    </tr>\n",
       "    <tr>\n",
       "      <th>FIBTG</th>\n",
       "      <td>Fiber, total dietary</td>\n",
       "      <td>8.0</td>\n",
       "      <td>g</td>\n",
       "    </tr>\n",
       "    <tr>\n",
       "      <th>SUGAR</th>\n",
       "      <td>Sugars, total</td>\n",
       "      <td>11.82</td>\n",
       "      <td>g</td>\n",
       "    </tr>\n",
       "    <tr>\n",
       "      <th>PROCNT</th>\n",
       "      <td>Protein</td>\n",
       "      <td>21.44</td>\n",
       "      <td>g</td>\n",
       "    </tr>\n",
       "    <tr>\n",
       "      <th>CHOLE</th>\n",
       "      <td>Cholesterol</td>\n",
       "      <td>0.0</td>\n",
       "      <td>mg</td>\n",
       "    </tr>\n",
       "    <tr>\n",
       "      <th>NA</th>\n",
       "      <td>Sodium, Na</td>\n",
       "      <td>1016.0</td>\n",
       "      <td>mg</td>\n",
       "    </tr>\n",
       "    <tr>\n",
       "      <th>CA</th>\n",
       "      <td>Calcium, Ca</td>\n",
       "      <td>266.0</td>\n",
       "      <td>mg</td>\n",
       "    </tr>\n",
       "    <tr>\n",
       "      <th>MG</th>\n",
       "      <td>Magnesium, Mg</td>\n",
       "      <td>90.0</td>\n",
       "      <td>mg</td>\n",
       "    </tr>\n",
       "    <tr>\n",
       "      <th>K</th>\n",
       "      <td>Potassium, K</td>\n",
       "      <td>354.0</td>\n",
       "      <td>mg</td>\n",
       "    </tr>\n",
       "    <tr>\n",
       "      <th>FE</th>\n",
       "      <td>Iron, Fe</td>\n",
       "      <td>6.98</td>\n",
       "      <td>mg</td>\n",
       "    </tr>\n",
       "    <tr>\n",
       "      <th>ZN</th>\n",
       "      <td>Zinc, Zn</td>\n",
       "      <td>2.38</td>\n",
       "      <td>mg</td>\n",
       "    </tr>\n",
       "    <tr>\n",
       "      <th>P</th>\n",
       "      <td>Phosphorus, P</td>\n",
       "      <td>298.0</td>\n",
       "      <td>mg</td>\n",
       "    </tr>\n",
       "    <tr>\n",
       "      <th>VITA_RAE</th>\n",
       "      <td>Vitamin A, RAE</td>\n",
       "      <td>0.0</td>\n",
       "      <td>µg</td>\n",
       "    </tr>\n",
       "    <tr>\n",
       "      <th>VITC</th>\n",
       "      <td>Vitamin C, total ascorbic acid</td>\n",
       "      <td>0.4</td>\n",
       "      <td>mg</td>\n",
       "    </tr>\n",
       "    <tr>\n",
       "      <th>THIA</th>\n",
       "      <td>Thiamin</td>\n",
       "      <td>0.83</td>\n",
       "      <td>mg</td>\n",
       "    </tr>\n",
       "    <tr>\n",
       "      <th>RIBF</th>\n",
       "      <td>Riboflavin</td>\n",
       "      <td>0.506</td>\n",
       "      <td>mg</td>\n",
       "    </tr>\n",
       "    <tr>\n",
       "      <th>NIA</th>\n",
       "      <td>Niacin</td>\n",
       "      <td>11.24</td>\n",
       "      <td>mg</td>\n",
       "    </tr>\n",
       "    <tr>\n",
       "      <th>VITB6A</th>\n",
       "      <td>Vitamin B-6</td>\n",
       "      <td>0.222</td>\n",
       "      <td>mg</td>\n",
       "    </tr>\n",
       "    <tr>\n",
       "      <th>FOLDFE</th>\n",
       "      <td>Folate, DFE</td>\n",
       "      <td>198.0</td>\n",
       "      <td>µg</td>\n",
       "    </tr>\n",
       "    <tr>\n",
       "      <th>FOLFD</th>\n",
       "      <td>Folate, food</td>\n",
       "      <td>130.0</td>\n",
       "      <td>µg</td>\n",
       "    </tr>\n",
       "    <tr>\n",
       "      <th>FOLAC</th>\n",
       "      <td>Folic acid</td>\n",
       "      <td>40.0</td>\n",
       "      <td>µg</td>\n",
       "    </tr>\n",
       "    <tr>\n",
       "      <th>VITB12</th>\n",
       "      <td>Vitamin B-12</td>\n",
       "      <td>0.0</td>\n",
       "      <td>µg</td>\n",
       "    </tr>\n",
       "    <tr>\n",
       "      <th>VITD</th>\n",
       "      <td>Vitamin D (D2 + D3)</td>\n",
       "      <td>0.0</td>\n",
       "      <td>µg</td>\n",
       "    </tr>\n",
       "    <tr>\n",
       "      <th>TOCPHA</th>\n",
       "      <td>Vitamin E (alpha-tocopherol)</td>\n",
       "      <td>0.38</td>\n",
       "      <td>mg</td>\n",
       "    </tr>\n",
       "    <tr>\n",
       "      <th>VITK1</th>\n",
       "      <td>Vitamin K (phylloquinone)</td>\n",
       "      <td>9.8</td>\n",
       "      <td>µg</td>\n",
       "    </tr>\n",
       "    <tr>\n",
       "      <th>WATER</th>\n",
       "      <td>Water</td>\n",
       "      <td>70.4</td>\n",
       "      <td>g</td>\n",
       "    </tr>\n",
       "  </tbody>\n",
       "</table>\n",
       "</div>"
      ],
      "text/plain": [
       "                                         label quantity  unit\n",
       "ENERC_KCAL                              Energy    534.0  kcal\n",
       "FAT                          Total lipid (fat)     6.48     g\n",
       "FASAT             Fatty acids, total saturated    1.554     g\n",
       "FATRN                 Fatty acids, total trans    0.052     g\n",
       "FAMS        Fatty acids, total monounsaturated    1.214     g\n",
       "FAPU        Fatty acids, total polyunsaturated    2.998     g\n",
       "CHOCDF             Carbohydrate, by difference    97.36     g\n",
       "FIBTG                     Fiber, total dietary      8.0     g\n",
       "SUGAR                            Sugars, total    11.82     g\n",
       "PROCNT                                 Protein    21.44     g\n",
       "CHOLE                              Cholesterol      0.0    mg\n",
       "NA                                  Sodium, Na   1016.0    mg\n",
       "CA                                 Calcium, Ca    266.0    mg\n",
       "MG                               Magnesium, Mg     90.0    mg\n",
       "K                                 Potassium, K    354.0    mg\n",
       "FE                                    Iron, Fe     6.98    mg\n",
       "ZN                                    Zinc, Zn     2.38    mg\n",
       "P                                Phosphorus, P    298.0    mg\n",
       "VITA_RAE                        Vitamin A, RAE      0.0    µg\n",
       "VITC            Vitamin C, total ascorbic acid      0.4    mg\n",
       "THIA                                   Thiamin     0.83    mg\n",
       "RIBF                                Riboflavin    0.506    mg\n",
       "NIA                                     Niacin    11.24    mg\n",
       "VITB6A                             Vitamin B-6    0.222    mg\n",
       "FOLDFE                             Folate, DFE    198.0    µg\n",
       "FOLFD                             Folate, food    130.0    µg\n",
       "FOLAC                               Folic acid     40.0    µg\n",
       "VITB12                            Vitamin B-12      0.0    µg\n",
       "VITD                       Vitamin D (D2 + D3)      0.0    µg\n",
       "TOCPHA            Vitamin E (alpha-tocopherol)     0.38    mg\n",
       "VITK1                Vitamin K (phylloquinone)      9.8    µg\n",
       "WATER                                    Water     70.4     g"
      ]
     },
     "execution_count": 4,
     "metadata": {},
     "output_type": "execute_result"
    }
   ],
   "source": [
    "get_nutrients(ingredients)"
   ]
  },
  {
   "cell_type": "markdown",
   "id": "96dcd285",
   "metadata": {},
   "source": [
    "## Absorbed vitamins"
   ]
  },
  {
   "cell_type": "code",
   "execution_count": 5,
   "id": "be5a3e01",
   "metadata": {},
   "outputs": [],
   "source": [
    "df = get_nutrients(ingredients)"
   ]
  },
  {
   "cell_type": "code",
   "execution_count": 6,
   "id": "8f95a559",
   "metadata": {
    "scrolled": false
   },
   "outputs": [
    {
     "data": {
      "text/plain": [
       "Text(0, 0.5, 'Quantity')"
      ]
     },
     "execution_count": 6,
     "metadata": {},
     "output_type": "execute_result"
    },
    {
     "data": {
      "image/png": "[encoded data removed]",
      "text/plain": [
       "<Figure size 504x360 with 1 Axes>"
      ]
     },
     "metadata": {
      "needs_background": "light"
     },
     "output_type": "display_data"
    }
   ],
   "source": [
    "df.filter(items = ['VITA_RAE','VITB12','VITB6A','VITC','VITD','TOCPHA','VITK1'], axis=0).plot(kind = 'bar', figsize = (7,5))\n",
    "plt.title('Vitamins on food', fontweight='bold')\n",
    "plt.xlabel('Vitamin', fontweight='bold')\n",
    "plt.ylabel('Quantity', fontweight='bold')"
   ]
  },
  {
   "cell_type": "markdown",
   "id": "75148b74",
   "metadata": {},
   "source": [
    "## Absorbed minerals"
   ]
  },
  {
   "cell_type": "code",
   "execution_count": 7,
   "id": "04e32645",
   "metadata": {},
   "outputs": [
    {
     "data": {
      "text/plain": [
       "Text(0, 0.5, 'Quantity')"
      ]
     },
     "execution_count": 7,
     "metadata": {},
     "output_type": "execute_result"
    },
    {
     "data": {
      "image/png": "[encoded data removed]",
      "text/plain": [
       "<Figure size 576x432 with 1 Axes>"
      ]
     },
     "metadata": {
      "needs_background": "light"
     },
     "output_type": "display_data"
    }
   ],
   "source": [
    "df.filter(items = ['FE','CA','MG','P','K','NA','ZN'], axis=0).plot(kind = 'bar', figsize = (8,6), color = 'green')\n",
    "plt.title('Minerals on food', fontweight='bold')\n",
    "plt.xlabel('Mineral', fontweight='bold')\n",
    "plt.ylabel('Quantity', fontweight='bold')"
   ]
  }
 ],
 "metadata": {
  "kernelspec": {
   "display_name": "Python 3",
   "language": "python",
   "name": "python3"
  },
  "language_info": {
   "codemirror_mode": {
    "name": "ipython",
    "version": 3
   },
   "file_extension": ".py",
   "mimetype": "text/x-python",
   "name": "python",
   "nbconvert_exporter": "python",
   "pygments_lexer": "ipython3",
   "version": "3.8.8"
  }
 },
 "nbformat": 4,
 "nbformat_minor": 5
}
